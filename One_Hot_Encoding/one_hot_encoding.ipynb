{
 "cells": [
  {
   "cell_type": "markdown",
   "id": "864975f0",
   "metadata": {},
   "source": [
    "# One Hot Encoding"
   ]
  },
  {
   "cell_type": "code",
   "execution_count": 1,
   "id": "05c4ed03",
   "metadata": {},
   "outputs": [],
   "source": [
    "import pandas as pd\n",
    "from sklearn.preprocessing import OneHotEncoder"
   ]
  },
  {
   "cell_type": "markdown",
   "id": "e77d707e",
   "metadata": {},
   "source": [
    "*Building a dummy employee dataset for example*"
   ]
  },
  {
   "cell_type": "code",
   "execution_count": 2,
   "id": "7ca17fcd",
   "metadata": {},
   "outputs": [
    {
     "name": "stdout",
     "output_type": "stream",
     "text": [
      "Employee data : \n",
      "   Employee id Gender Remarks\n",
      "0           10      M    Good\n",
      "1           20      F    Nice\n",
      "2           15      F    Good\n",
      "3           25      F   Great\n",
      "4           30      M    Nice\n"
     ]
    }
   ],
   "source": [
    "data = { 'Employee id': [10, 20, 15, 25, 30], \n",
    "        'Gender': ['M', 'F', 'F', 'F', 'M'],\n",
    "        'Remarks': ['Good', 'Nice', 'Good', 'Great', 'Nice']\n",
    "        }\n",
    "\n",
    "# Converting into a Pandas dataframe\n",
    "df = pd.DataFrame(data)\n",
    "\n",
    "# Print the dataframe\n",
    "print(f\"Employee data : \\n{df}\")"
   ]
  },
  {
   "cell_type": "markdown",
   "id": "041ed8fd",
   "metadata": {},
   "source": [
    "*Extract categorical columns from the dataframe*\n"
   ]
  },
  {
   "cell_type": "code",
   "execution_count": null,
   "id": "53039e2b",
   "metadata": {},
   "outputs": [],
   "source": [
    "categorical_columns = df.select_dtypes(include=['object']).columns.tolist()\n",
    "\n",
    "encoder = OneHotEncoder(sparse_output=False)\n",
    "\n",
    "one_hot_encoded = encoder.fit_transform(df[categorical_columns])\n",
    "\n",
    "one_hot_df = pd.DataFrame(one_hot_encoded, columns=encoder.get_feature_names_out(categorical_columns))\n",
    "\n",
    "df_encoded = pd.concat([df, one_hot_df], axis=1)\n",
    "\n",
    "\n",
    "df_encoded = df_encoded.drop(categorical_columns, axis=1)\n",
    "\n",
    "print(f\"Encoded Employee data : \\n{df_encoded}\")"
   ]
  }
 ],
 "metadata": {
  "kernelspec": {
   "display_name": "Python 3",
   "language": "python",
   "name": "python3"
  },
  "language_info": {
   "codemirror_mode": {
    "name": "ipython",
    "version": 3
   },
   "file_extension": ".py",
   "mimetype": "text/x-python",
   "name": "python",
   "nbconvert_exporter": "python",
   "pygments_lexer": "ipython3",
   "version": "3.9.6"
  }
 },
 "nbformat": 4,
 "nbformat_minor": 5
}
