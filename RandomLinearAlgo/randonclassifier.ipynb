{
 "cells": [
  {
   "cell_type": "markdown",
   "id": "a76f91ca",
   "metadata": {},
   "source": [
    "AIM: Code the random linear classifier algorithm in Python. \n",
    "Tools: 1. Python\n",
    "2. VScode\n",
    "3. Numpy\n",
    "4. Scikit-learn\n",
    "5. Jupyter Notebook\n",
    "6. Matplotlib\n",
    "\n",
    "ALGORITHM: Random Linear Classifier : 1. To find the opyimal straight line 01, 02, theta0, 2. Try K random choices of  01, 02, theta0 , 3. Compute the training error for each of the K hypothesis. 4. Choose the hypothesis with the lowest training error."
   ]
  },
  {
   "cell_type": "code",
   "execution_count": null,
   "id": "9ac1fd53",
   "metadata": {},
   "outputs": [
    {
     "name": "stderr",
     "output_type": "stream",
     "text": [
      "Matplotlib is building the font cache; this may take a moment.\n"
     ]
    }
   ],
   "source": [
    "#import the numpay and matplotlib\n",
    "import numpy as np\n",
    "import matplotlib.pyplot as plt"
   ]
  },
  {
   "cell_type": "markdown",
   "id": "626762f3",
   "metadata": {},
   "source": []
  },
  {
   "cell_type": "code",
   "execution_count": 2,
   "id": "6ab63189",
   "metadata": {},
   "outputs": [],
   "source": [
    "np.random.seed(0) #for reproducibility"
   ]
  },
  {
   "cell_type": "code",
   "execution_count": 4,
   "id": "38376392",
   "metadata": {},
   "outputs": [],
   "source": [
    "# Dogs: higher ear flappiness index , lower whisker leangth\n",
    "dogs_whisker_length = np.random.normal(loc=5, scale=1, size=10)\n",
    "dogs_ear_flappiness_index = np.random.normal(loc=8, scale=1, size=10)"
   ]
  },
  {
   "cell_type": "code",
   "execution_count": 5,
   "id": "afcc34e1",
   "metadata": {},
   "outputs": [],
   "source": [
    "# Cats: Lower ear flappiness index, Higher whisker length\n",
    "cats_whisker_length = np.random.normal(loc=8, scale=1, size=10)\n",
    "cats_ear_flappiness_index = np.random.normal(loc=5, scale=1, size=10)"
   ]
  }
 ],
 "metadata": {
  "kernelspec": {
   "display_name": "Python 3",
   "language": "python",
   "name": "python3"
  },
  "language_info": {
   "codemirror_mode": {
    "name": "ipython",
    "version": 3
   },
   "file_extension": ".py",
   "mimetype": "text/x-python",
   "name": "python",
   "nbconvert_exporter": "python",
   "pygments_lexer": "ipython3",
   "version": "3.9.6"
  }
 },
 "nbformat": 4,
 "nbformat_minor": 5
}
