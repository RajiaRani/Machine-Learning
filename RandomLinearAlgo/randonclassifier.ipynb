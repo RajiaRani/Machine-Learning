{
 "cells": [
  {
   "cell_type": "markdown",
   "id": "a76f91ca",
   "metadata": {},
   "source": [
    "AIM: Code the random linear classifier algorithm in Python. \n",
    "Tools: 1. Python\n",
    "2. VScode\n",
    "3. Numpy\n",
    "4. Scikit-learn\n",
    "5. Jupyter Notebook\n",
    "6. Matplotlib\n",
    "\n",
    "ALGORITHM: Random Linear Classifier : 1. To find the opyimal straight line 01, 02, theta0, 2. Try K random choices of  01, 02, theta0 , 3. Compute the training error for each of the K hypothesis. 4. Choose the hypothesis with the lowest training error."
   ]
  },
  {
   "cell_type": "code",
   "execution_count": 2,
   "id": "9ac1fd53",
   "metadata": {},
   "outputs": [],
   "source": [
    "#import the numpay and matplotlib\n",
    "# Numpy - used for scientific computing\n",
    "# Mateplotlib - used for Plotting\n",
    "import numpy as np\n",
    "import matplotlib.pyplot as plt"
   ]
  },
  {
   "cell_type": "markdown",
   "id": "626762f3",
   "metadata": {},
   "source": []
  },
  {
   "cell_type": "code",
   "execution_count": 3,
   "id": "6ab63189",
   "metadata": {},
   "outputs": [],
   "source": [
    "np.random.seed(0) #for reproducibility"
   ]
  },
  {
   "cell_type": "markdown",
   "id": "39d0b14c",
   "metadata": {},
   "source": [
    "The Gaussian distribution is one of the most important probability distributions in mathematics and statistics.\n",
    "μ = mean (center of the distribution)\n",
    "σ = standard deviation (spread of the distribution)\n",
    "The graph looks like a bell curve.\n",
    "\n",
    "It is symmetric around the mean 𝜇\n",
    "About:\n",
    "68% of values lie within 1σ of the mean\n",
    "95% of values lie within 2σ\n",
    "99.7% of values lie within 3σ"
   ]
  },
  {
   "cell_type": "code",
   "execution_count": 4,
   "id": "38376392",
   "metadata": {},
   "outputs": [],
   "source": [
    "# Dogs: higher ear flappiness index , lower whisker leangth\n",
    "# np.random.normal -- normal distribution or Gaussian distribution -- loc means --  mean  loc(5) == mean = 5 -- we get the data between 6,5,7\n",
    "dogs_whisker_length = np.random.normal(loc=5, scale=1, size=10)\n",
    "dogs_ear_flappiness_index = np.random.normal(loc=8, scale=1, size=10)"
   ]
  },
  {
   "cell_type": "code",
   "execution_count": 5,
   "id": "cb8541bc",
   "metadata": {},
   "outputs": [
    {
     "data": {
      "text/plain": [
       "array([6.76405235, 5.40015721, 5.97873798, 7.2408932 , 6.86755799,\n",
       "       4.02272212, 5.95008842, 4.84864279, 4.89678115, 5.4105985 ])"
      ]
     },
     "execution_count": 5,
     "metadata": {},
     "output_type": "execute_result"
    }
   ],
   "source": [
    "dogs_whisker_length"
   ]
  },
  {
   "cell_type": "code",
   "execution_count": 6,
   "id": "afcc34e1",
   "metadata": {},
   "outputs": [],
   "source": [
    "# Cats: Lower ear flappiness index, Higher whisker length\n",
    "cats_whisker_length = np.random.normal(loc=8, scale=1, size=10)\n",
    "cats_ear_flappiness_index = np.random.normal(loc=5, scale=1, size=10)"
   ]
  },
  {
   "cell_type": "code",
   "execution_count": 8,
   "id": "a0207c42",
   "metadata": {},
   "outputs": [
    {
     "data": {
      "text/plain": [
       "array([ 5.44701018,  8.6536186 ,  8.8644362 ,  7.25783498, 10.26975462,\n",
       "        6.54563433,  8.04575852,  7.81281615,  9.53277921,  9.46935877])"
      ]
     },
     "execution_count": 8,
     "metadata": {},
     "output_type": "execute_result"
    }
   ],
   "source": [
    "cats_whisker_length"
   ]
  },
  {
   "cell_type": "code",
   "execution_count": 7,
   "id": "858e8e6f",
   "metadata": {},
   "outputs": [
    {
     "data": {
      "image/png": "[encoded data removed]",
      "text/plain": [
       "<Figure size 640x480 with 1 Axes>"
      ]
     },
     "metadata": {},
     "output_type": "display_data"
    }
   ],
   "source": [
    "#Plot the graph\n",
    "plt.scatter(dogs_whisker_length, dogs_ear_flappiness_index, label=\"Dogs\")\n",
    "plt.scatter(cats_whisker_length, cats_ear_flappiness_index, label=\"cats\")\n",
    "plt.xlabel(\"whisker length\")\n",
    "plt.ylabel(\"flappiness index\")\n",
    "plt.title(\"Dog vs Cat Classification\")\n",
    "plt.legend()\n",
    "plt.show()"
   ]
  },
  {
   "cell_type": "code",
   "execution_count": 48,
   "id": "66ae1df6",
   "metadata": {},
   "outputs": [],
   "source": [
    "# Implementing Python code to run the alogorithum\n",
    "# d == 2 , number of features ( whisker length, flappiness index)\n",
    "def random_linear_classifier(data_dogs, data_cats, k , d):\n",
    "    best_error = float('inf')\n",
    "    best_theta = None\n",
    "    best_theta0 = None\n",
    "\n",
    "    for _ in range(k):\n",
    "        theta = np.random.normal(size=d) # 01x1 +02x2\n",
    "        theta0 = np.random.normal() #theta0\n",
    "\n",
    "        error = compute_error(data_dogs, data_cats, theta, theta0)\n",
    "\n",
    "        if error < best_error:\n",
    "            best_error = error\n",
    "            best_theta = theta\n",
    "            best_theta0 = theta0\n",
    "\n",
    "    return best_theta, best_theta0\n"
   ]
  },
  {
   "cell_type": "code",
   "execution_count": 47,
   "id": "aaed366a",
   "metadata": {},
   "outputs": [],
   "source": [
    "def compute_error(data_dogs, data_cats, theta, theta0):\n",
    "    error = 0\n",
    "    # Dogs should be classified positive (>= 0)\n",
    "    for x_dog in data_dogs:\n",
    "        if np.dot(theta, x_dog) + theta0 <= 0:\n",
    "            error += 1\n",
    "    # Cats should be classified negative (< 0)\n",
    "    for x_cat in data_cats:\n",
    "        if np.dot(theta , x_cat) + theta0 > 0: \n",
    "            error += 1\n",
    "    return error"
   ]
  },
  {
   "cell_type": "code",
   "execution_count": 30,
   "id": "3f32a9fa",
   "metadata": {},
   "outputs": [],
   "source": [
    "#Prepare data for algorithm\n",
    "dogs_data = np.vstack((dogs_whisker_length, dogs_ear_flappiness_index)).T\n",
    "cats_data = np.vstack((cats_whisker_length, cats_ear_flappiness_index)).T"
   ]
  },
  {
   "cell_type": "code",
   "execution_count": 31,
   "id": "c5ae80b3",
   "metadata": {},
   "outputs": [
    {
     "data": {
      "text/plain": [
       "array([[4.50196755, 8.92085882],\n",
       "       [6.92953205, 8.31872765],\n",
       "       [5.94942081, 8.85683061],\n",
       "       [5.08755124, 7.34897441],\n",
       "       [3.77456448, 6.96575716],\n",
       "       [5.84436298, 8.68159452],\n",
       "       [3.99978465, 7.19659034],\n",
       "       [3.4552289 , 7.31045022],\n",
       "       [6.18802979, 7.5444675 ],\n",
       "       [5.31694261, 8.01747916]])"
      ]
     },
     "execution_count": 31,
     "metadata": {},
     "output_type": "execute_result"
    }
   ],
   "source": [
    "dogs_data"
   ]
  },
  {
   "cell_type": "code",
   "execution_count": 32,
   "id": "ce2f05ed",
   "metadata": {},
   "outputs": [
    {
     "data": {
      "text/plain": [
       "array([[6.95144703, 4.10453344],\n",
       "       [6.57998206, 5.3869025 ],\n",
       "       [6.29372981, 4.48919486],\n",
       "       [9.9507754 , 3.81936782],\n",
       "       [7.49034782, 4.97181777],\n",
       "       [7.5619257 , 5.42833187],\n",
       "       [6.74720464, 5.06651722],\n",
       "       [8.77749036, 5.3024719 ],\n",
       "       [6.38610215, 4.36567791],\n",
       "       [7.78725972, 4.63725883]])"
      ]
     },
     "execution_count": 32,
     "metadata": {},
     "output_type": "execute_result"
    }
   ],
   "source": [
    "cats_data"
   ]
  },
  {
   "cell_type": "code",
   "execution_count": 55,
   "id": "8c611c48",
   "metadata": {},
   "outputs": [
    {
     "name": "stdout",
     "output_type": "stream",
     "text": [
      "Best theta: [-0.88690433  0.87830376]\n",
      "Best theta0: 0.08645252400759346\n"
     ]
    }
   ],
   "source": [
    "# RUN Random linear Classifier Algorithm\n",
    "k = 100  # Number of iterations\n",
    "d = 2    # Number of features\n",
    "best_theta,best_theta0 = random_linear_classifier(dogs_data, cats_data,k, d)\n",
    "print(\"Best theta:\", best_theta)\n",
    "print(\"Best theta0:\", best_theta0)"
   ]
  },
  {
   "cell_type": "code",
   "execution_count": 56,
   "id": "e8b82dc8",
   "metadata": {},
   "outputs": [
    {
     "data": {
      "text/plain": [
       "array([-0.88690433,  0.87830376])"
      ]
     },
     "execution_count": 56,
     "metadata": {},
     "output_type": "execute_result"
    }
   ],
   "source": [
    "best_theta"
   ]
  },
  {
   "cell_type": "code",
   "execution_count": 57,
   "id": "3a691287",
   "metadata": {},
   "outputs": [
    {
     "data": {
      "text/plain": [
       "0.08645252400759346"
      ]
     },
     "execution_count": 57,
     "metadata": {},
     "output_type": "execute_result"
    }
   ],
   "source": [
    "best_theta0"
   ]
  },
  {
   "cell_type": "code",
   "execution_count": 64,
   "id": "45c1990c",
   "metadata": {},
   "outputs": [],
   "source": [
    "#Plot the decision boundary\n",
    "x_vals = np.linspace(2, 10, 100)\n",
    "y_vals = (-best_theta[0] / best_theta[1]) * x_vals - (best_theta0 / best_theta[1])"
   ]
  },
  {
   "cell_type": "code",
   "execution_count": 67,
   "id": "63475893",
   "metadata": {},
   "outputs": [
    {
     "data": {
      "image/png": "[encoded data removed]",
      "text/plain": [
       "<Figure size 640x480 with 1 Axes>"
      ]
     },
     "metadata": {},
     "output_type": "display_data"
    }
   ],
   "source": [
    "plt.scatter(dogs_whisker_length, dogs_ear_flappiness_index, label=\"Dogs\")\n",
    "plt.scatter(cats_whisker_length, cats_ear_flappiness_index, label=\"Cats\")\n",
    "plt.plot(x_vals, y_vals, color=\"red\", linestyle=\"--\", label=\"Decision Boundary\")  \n",
    "plt.xlabel(\"whisker length\")\n",
    "plt.ylabel(\"flappiness index\")\n",
    "plt.title(\"Dog vs Cat Classification\")\n",
    "plt.legend()\n",
    "plt.show()\n"
   ]
  }
 ],
 "metadata": {
  "kernelspec": {
   "display_name": "Python 3",
   "language": "python",
   "name": "python3"
  },
  "language_info": {
   "codemirror_mode": {
    "name": "ipython",
    "version": 3
   },
   "file_extension": ".py",
   "mimetype": "text/x-python",
   "name": "python",
   "nbconvert_exporter": "python",
   "pygments_lexer": "ipython3",
   "version": "3.9.6"
  }
 },
 "nbformat": 4,
 "nbformat_minor": 5
}
