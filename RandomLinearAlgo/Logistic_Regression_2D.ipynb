{
 "cells": [
  {
   "cell_type": "code",
   "execution_count": 3,
   "id": "5706bf63",
   "metadata": {},
   "outputs": [],
   "source": [
    "import numpy as np\n",
    "import matplotlib.pyplot as plt\n",
    "\n",
    "# Define Sigmoid function\n",
    "def sigmoid(z):\n",
    "    return 1/(1+ np.exp(-z))\n"
   ]
  },
  {
   "cell_type": "code",
   "execution_count": 4,
   "id": "dc974447",
   "metadata": {},
   "outputs": [],
   "source": [
    "# LOSS Function : Log Likelihood\n",
    "def compute_loss(y, hx):\n",
    "    return -np.mean(y* np.log(hx) + (1-y) * np.log(1-hx))"
   ]
  },
  {
   "cell_type": "code",
   "execution_count": null,
   "id": "d68c3e03",
   "metadata": {},
   "outputs": [],
   "source": [
    "# Gradient of the loss\n",
    "# hx = sigma(X0)\n",
    "# X.T = transpose of X\n",
    "def compute_graident(X, y, hx):\n",
    "    return np.dot(X.T, (hx-y))/y.shape[0]"
   ]
  },
  {
   "cell_type": "code",
   "execution_count": 8,
   "id": "8ad55aab",
   "metadata": {},
   "outputs": [
    {
     "data": {
      "image/png": "[encoded data removed]",
      "text/plain": [
       "<Figure size 640x480 with 1 Axes>"
      ]
     },
     "metadata": {},
     "output_type": "display_data"
    }
   ],
   "source": [
    "# Datasets\n",
    "X = np.array([\n",
    "    [2,1],\n",
    "    [3,2],\n",
    "    [4,4],\n",
    "    [1,5],\n",
    "    [2,6],\n",
    "    [3,7]\n",
    "])\n",
    "\n",
    "y = np.array([1, 1, 1, 0, 0, 0])\n",
    "\n",
    "plt.scatter(X[:3, 0], X[:3, 1], color='blue' , marker='o', label='Positive class')\n",
    "plt.scatter(X[3:, 0], X[:3, 1], color='red' , marker='x', label='Negative class')\n",
    "plt.xlabel('Whisker length')\n",
    "plt.ylabel('Ear flippiness index')\n",
    "plt.legend()\n",
    "plt.title('Initial Data Plot')\n",
    "plt.show()\n"
   ]
  },
  {
   "cell_type": "code",
   "execution_count": 25,
   "id": "8e4b139e",
   "metadata": {},
   "outputs": [],
   "source": [
    "# Logistic Regression Algorithm\n",
    "def logistic_regression(X,y, learning_rate=0.01, num_iterations=10):\n",
    "    #Add intercept term to X\n",
    "    X = np.hstack((np.ones((X.shape[0],1))), X)\n",
    "\n",
    "    #Initialize weights\n",
    "    weights = np.zeros(X.shape[1])\n",
    "\n",
    "    #Gradient decent\n",
    "    for i in range(num_iterations):\n",
    "        z = np.dot(X, weights)\n",
    "        hx = sigmoid(z)\n",
    "        loss = compute_loss(y, hx)\n",
    "        gradient = compute_graident(X, y, hx)\n",
    "        weights -= learning_rate * gradient\n",
    "        \n",
    "        plot_decision_boundary(X,y,weights, loss, i)\n",
    "        print(f'Iteration {i} : Thets={weights}, Loss={loss}')\n",
    "    \n",
    "    return weights\n"
   ]
  },
  {
   "cell_type": "code",
   "execution_count": 27,
   "id": "4c2d516d",
   "metadata": {},
   "outputs": [],
   "source": [
    "# Plotting function for decision boundary\n",
    "def plot_decision_boundary(X,y, weights, loss, iteration):\n",
    "    plt.scatter(X[:3, 0], X[:3, 1], color='blue' , marker='o', label='Positive class' if iteration == 0 else \" \")\n",
    "    plt.scatter(X[3:, 0], X[:3, 1], color='red' , marker='x', label='Negative class' if iteration == 0 else \" \" )\n",
    "\n",
    "    # Extend the x values a bit beyond the minimum and maximum values of the dataset\n",
    "    x_values = np.array([np.min(X[:,1]) - 1, np.max(X[:, 1]) + 1])\n",
    "    y_values = -(weights[0] + weights[1] * x_values / weights[2])\n",
    "    plt.plot(x_values, y_values, \"k\")\n",
    "\n",
    "    plt.xlim(x_values[0], x_values[1])\n",
    "    plt.ylim(np.min(x[:, 2]) - 1, np.max(X[:, 2])+ 1)\n",
    "    plt.xlabel('Whisker length')\n",
    "    plt.ylabel('Ear flippiness index')\n",
    "\n",
    "    plt.title('Initial Data Plot')\n",
    "    if iteration == 0:\n",
    "        plt.legend()\n",
    "    plt.show()"
   ]
  },
  {
   "cell_type": "code",
   "execution_count": 30,
   "id": "f0677563",
   "metadata": {},
   "outputs": [
    {
     "ename": "TypeError",
     "evalue": "hstack() takes 1 positional argument but 2 were given",
     "output_type": "error",
     "traceback": [
      "\u001b[0;31m---------------------------------------------------------------------------\u001b[0m",
      "\u001b[0;31mTypeError\u001b[0m                                 Traceback (most recent call last)",
      "Cell \u001b[0;32mIn[30], line 1\u001b[0m\n\u001b[0;32m----> 1\u001b[0m weights \u001b[38;5;241m=\u001b[39m \u001b[43mlogistic_regression\u001b[49m\u001b[43m(\u001b[49m\u001b[43mX\u001b[49m\u001b[43m,\u001b[49m\u001b[43my\u001b[49m\u001b[43m)\u001b[49m\n",
      "Cell \u001b[0;32mIn[25], line 4\u001b[0m, in \u001b[0;36mlogistic_regression\u001b[0;34m(X, y, learning_rate, num_iterations)\u001b[0m\n\u001b[1;32m      2\u001b[0m \u001b[38;5;28;01mdef\u001b[39;00m\u001b[38;5;250m \u001b[39m\u001b[38;5;21mlogistic_regression\u001b[39m(X,y, learning_rate\u001b[38;5;241m=\u001b[39m\u001b[38;5;241m0.01\u001b[39m, num_iterations\u001b[38;5;241m=\u001b[39m\u001b[38;5;241m10\u001b[39m):\n\u001b[1;32m      3\u001b[0m     \u001b[38;5;66;03m#Add intercept term to X\u001b[39;00m\n\u001b[0;32m----> 4\u001b[0m     X \u001b[38;5;241m=\u001b[39m \u001b[43mnp\u001b[49m\u001b[38;5;241;43m.\u001b[39;49m\u001b[43mhstack\u001b[49m\u001b[43m(\u001b[49m\u001b[43m(\u001b[49m\u001b[43mnp\u001b[49m\u001b[38;5;241;43m.\u001b[39;49m\u001b[43mones\u001b[49m\u001b[43m(\u001b[49m\u001b[43m(\u001b[49m\u001b[43mX\u001b[49m\u001b[38;5;241;43m.\u001b[39;49m\u001b[43mshape\u001b[49m\u001b[43m[\u001b[49m\u001b[38;5;241;43m0\u001b[39;49m\u001b[43m]\u001b[49m\u001b[43m,\u001b[49m\u001b[38;5;241;43m1\u001b[39;49m\u001b[43m)\u001b[49m\u001b[43m)\u001b[49m\u001b[43m)\u001b[49m\u001b[43m,\u001b[49m\u001b[43m \u001b[49m\u001b[43mX\u001b[49m\u001b[43m)\u001b[49m\n\u001b[1;32m      6\u001b[0m     \u001b[38;5;66;03m#Initialize weights\u001b[39;00m\n\u001b[1;32m      7\u001b[0m     weights \u001b[38;5;241m=\u001b[39m np\u001b[38;5;241m.\u001b[39mzeros(X\u001b[38;5;241m.\u001b[39mshape[\u001b[38;5;241m1\u001b[39m])\n",
      "\u001b[0;31mTypeError\u001b[0m: hstack() takes 1 positional argument but 2 were given"
     ]
    }
   ],
   "source": [
    "weights = logistic_regression(X,y)"
   ]
  }
 ],
 "metadata": {
  "kernelspec": {
   "display_name": "Python 3",
   "language": "python",
   "name": "python3"
  },
  "language_info": {
   "codemirror_mode": {
    "name": "ipython",
    "version": 3
   },
   "file_extension": ".py",
   "mimetype": "text/x-python",
   "name": "python",
   "nbconvert_exporter": "python",
   "pygments_lexer": "ipython3",
   "version": "3.9.6"
  }
 },
 "nbformat": 4,
 "nbformat_minor": 5
}
