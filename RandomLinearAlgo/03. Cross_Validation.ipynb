{
 "cells": [
  {
   "cell_type": "code",
   "execution_count": 1,
   "id": "d5b8fa3c",
   "metadata": {},
   "outputs": [],
   "source": [
    "import numpy as np\n",
    "import matplotlib.pyplot as plt\n",
    "from sklearn.model_selection import train_test_split, KFold"
   ]
  },
  {
   "cell_type": "code",
   "execution_count": 2,
   "id": "779affcd",
   "metadata": {},
   "outputs": [],
   "source": [
    "np.random.seed(0)"
   ]
  },
  {
   "cell_type": "code",
   "execution_count": 3,
   "id": "43af57e6",
   "metadata": {},
   "outputs": [],
   "source": [
    "dogs_whisker_length = np.random.normal(loc=5, scale=1, size=10)\n",
    "dogs_ear_flappiness_index = np.random.normal(loc=8, scale=1, size=10)\n",
    "\n",
    "cats_whisker_length = np.random.normal(loc=8, scale=1, size=10)\n",
    "cats_ear_flappiness_index = np.random.normal(loc=5, scale=1, size=10)"
   ]
  },
  {
   "cell_type": "code",
   "execution_count": 4,
   "id": "e20fdd55",
   "metadata": {},
   "outputs": [],
   "source": [
    "# Combination the data\n",
    "dogs_data = np.vstack((dogs_whisker_length, dogs_ear_flappiness_index)).T\n",
    "cats_data = np.vstack((cats_whisker_length, cats_ear_flappiness_index)).T\n",
    "data = np.vstack((dogs_data, cats_data))\n",
    "labels = np.hstack((np.zeros(len(dogs_data)), (np.ones(len(cats_data)))))"
   ]
  },
  {
   "cell_type": "code",
   "execution_count": 5,
   "id": "2849407b",
   "metadata": {},
   "outputs": [],
   "source": [
    "# Split data into training and testing\n",
    "# 0.2 means 20% reserved for testing and 80% for training\n",
    "X_train, X_test, Y_train, Y_test = train_test_split(data, labels, test_size=0.2, random_state=42)"
   ]
  },
  {
   "cell_type": "code",
   "execution_count": 6,
   "id": "763a6abc",
   "metadata": {},
   "outputs": [
    {
     "data": {
      "image/png": "[encoded data removed]",
      "text/plain": [
       "<Figure size 640x480 with 1 Axes>"
      ]
     },
     "metadata": {},
     "output_type": "display_data"
    }
   ],
   "source": [
    "plt.scatter(X_train[Y_train == 0][:, 0], X_train[Y_train == 0][:, 1], label=\"Training Dogs\")\n",
    "plt.scatter(X_train[Y_train == 1][:, 0], X_train[Y_train == 1][:, 1], label=\"Training Cats\")\n",
    "plt.scatter(X_test[:, 0], X_test[:, 1], c=Y_test, cmap=\"bwr\", label=\"Testing Data\")\n",
    "plt.xlabel(\"whisker length\")\n",
    "plt.ylabel(\"flappiness index\")\n",
    "plt.title(\"Dog vs Cat Classification — Training and Testing Data\")\n",
    "plt.legend()\n",
    "plt.show()"
   ]
  },
  {
   "cell_type": "code",
   "execution_count": 7,
   "id": "df8a7ae8",
   "metadata": {},
   "outputs": [],
   "source": [
    "# Implementing Python code to run the alogorithum\n",
    "# d == 2 , number of features ( whisker length, flappiness index)\n",
    "\n",
    "def random_linear_classifier(data_dogs, data_cats, k , d):\n",
    "    best_error = float('inf')\n",
    "    best_theta = None\n",
    "    best_theta0 = None\n",
    "\n",
    "    for _ in range(k):\n",
    "        theta = np.random.normal(size=d) # 01x1 +02x2\n",
    "        theta0 = np.random.normal() #theta0\n",
    "\n",
    "        error = compute_error(data_dogs, data_cats, theta, theta0)\n",
    "\n",
    "        if error < best_error:\n",
    "            best_error = error\n",
    "            best_theta = theta\n",
    "            best_theta0 = theta0\n",
    "\n",
    "    return best_theta, best_theta0\n",
    "\n",
    "\n",
    "# Compute Error Function\n",
    "def compute_error(data_dogs, data_cats, theta, theta0):\n",
    "    error = 0\n",
    "    for x_dog in data_dogs:\n",
    "        if np.dot(theta, x_dog)+theta0 <= 0:\n",
    "            error+=1\n",
    "    for x_cat in data_cats:\n",
    "        if np.dot(theta, x_cat)+theta0 > 0:\n",
    "            error+=1\n",
    "    return error"
   ]
  },
  {
   "cell_type": "markdown",
   "id": "09c74122",
   "metadata": {},
   "source": [
    "# Cross Validation Function for K-Fold "
   ]
  },
  {
   "cell_type": "code",
   "execution_count": null,
   "id": "246087b0",
   "metadata": {},
   "outputs": [
    {
     "ename": "ValueError",
     "evalue": "not enough values to unpack (expected 3, got 2)",
     "output_type": "error",
     "traceback": [
      "\u001b[0;31m---------------------------------------------------------------------------\u001b[0m",
      "\u001b[0;31mValueError\u001b[0m                                Traceback (most recent call last)",
      "Cell \u001b[0;32mIn[17], line 27\u001b[0m\n\u001b[1;32m     24\u001b[0m \u001b[38;5;66;03m# Define k values to try\u001b[39;00m\n\u001b[1;32m     25\u001b[0m k_values \u001b[38;5;241m=\u001b[39m [ \u001b[38;5;241m1\u001b[39m, \u001b[38;5;241m10\u001b[39m, \u001b[38;5;241m50\u001b[39m, \u001b[38;5;241m100\u001b[39m, \u001b[38;5;241m200\u001b[39m]\n\u001b[0;32m---> 27\u001b[0m best_k \u001b[38;5;241m=\u001b[39m \u001b[43mcross_validate\u001b[49m\u001b[43m(\u001b[49m\u001b[43mdogs_data\u001b[49m\u001b[43m,\u001b[49m\u001b[43m \u001b[49m\u001b[43mcats_data\u001b[49m\u001b[43m,\u001b[49m\u001b[43m \u001b[49m\u001b[43mk_values\u001b[49m\u001b[43m,\u001b[49m\u001b[43m \u001b[49m\u001b[43md\u001b[49m\u001b[38;5;241;43m=\u001b[39;49m\u001b[38;5;241;43m2\u001b[39;49m\u001b[43m)\u001b[49m\n\u001b[1;32m     29\u001b[0m \u001b[38;5;28mprint\u001b[39m(\u001b[38;5;124mf\u001b[39m\u001b[38;5;124m\"\u001b[39m\u001b[38;5;124mBest value of k: \u001b[39m\u001b[38;5;132;01m{\u001b[39;00mbest_k\u001b[38;5;132;01m}\u001b[39;00m\u001b[38;5;124m\"\u001b[39m)\n",
      "Cell \u001b[0;32mIn[17], line 15\u001b[0m, in \u001b[0;36mcross_validate\u001b[0;34m(data_dogs, data_cats, k_values, d, n_splits)\u001b[0m\n\u001b[1;32m     12\u001b[0m     X_val_fold \u001b[38;5;241m=\u001b[39m np\u001b[38;5;241m.\u001b[39mvstack((data_dogs[val_index], data_cats[val_index]))\n\u001b[1;32m     13\u001b[0m     y_val_fold \u001b[38;5;241m=\u001b[39m np\u001b[38;5;241m.\u001b[39mhstack((np\u001b[38;5;241m.\u001b[39mzeros(\u001b[38;5;28mlen\u001b[39m(val_index)), np\u001b[38;5;241m.\u001b[39mones(\u001b[38;5;28mlen\u001b[39m(val_index))))\n\u001b[0;32m---> 15\u001b[0m     best_theta_fold, best_theta0_fold, error \u001b[38;5;241m=\u001b[39m random_linear_classifier(X_train_fold[y_train_fold \u001b[38;5;241m==\u001b[39m \u001b[38;5;241m0\u001b[39m], X_train_fold[y_train_fold \u001b[38;5;241m==\u001b[39m \u001b[38;5;241m1\u001b[39m],k,d)\n\u001b[1;32m     17\u001b[0m     errors\u001b[38;5;241m.\u001b[39mappend(compute_error(X_val_fold[y_val_fold \u001b[38;5;241m==\u001b[39m \u001b[38;5;241m0\u001b[39m], X_val_fold[y_val_fold \u001b[38;5;241m==\u001b[39m \u001b[38;5;241m1\u001b[39m], best_theta_fold, best_theta0_fold))\n\u001b[1;32m     19\u001b[0m avg_errors\u001b[38;5;241m.\u001b[39mappend(np\u001b[38;5;241m.\u001b[39mmean(errors))\n",
      "\u001b[0;31mValueError\u001b[0m: not enough values to unpack (expected 3, got 2)"
     ]
    }
   ],
   "source": [
    "# n_splits = 5 means divided into 5 kfold parts\n",
    "def cross_validate(data_dogs, data_cats, k_values, d , n_splits=5):\n",
    "    kf = KFold(n_splits=n_splits, shuffle=True, random_state=42)\n",
    "    avg_errors = []\n",
    "\n",
    "    for k in k_values:\n",
    "        errors = []\n",
    "\n",
    "        for train_index, val_index in kf.split(data_dogs):\n",
    "            X_train_fold = np.vstack((data_dogs[train_index], data_cats[train_index]))\n",
    "            y_train_fold = np.hstack((np.zeros(len(train_index)), np.ones(len(train_index))))\n",
    "            X_val_fold = np.vstack((data_dogs[val_index], data_cats[val_index]))\n",
    "            y_val_fold = np.hstack((np.zeros(len(val_index)), np.ones(len(val_index))))\n",
    "\n",
    "            best_theta_fold, best_theta0_fold, error = random_linear_classifier(X_train_fold[y_train_fold == 0], X_train_fold[y_train_fold == 1],k,d)\n",
    "            \n",
    "            errors.append(compute_error(X_val_fold[y_val_fold == 0], X_val_fold[y_val_fold == 1], best_theta_fold, best_theta0_fold))\n",
    "        \n",
    "        avg_errors.append(np.mean(errors))\n",
    "    \n",
    "    # argmin mean take the LOWEST/Minimum Values \n",
    "    best_k = k_values[np.argmin(avg_errors)]\n",
    "    return best_k\n",
    "\n",
    "# Define k values to try\n",
    "k_values = [ 1, 10, 50, 100, 200]\n",
    "\n",
    "best_k = cross_validate(dogs_data, cats_data, k_values, d=2)\n",
    "\n",
    "print(f\"Best value of k: {best_k}\")\n",
    "\n"
   ]
  },
  {
   "cell_type": "code",
   "execution_count": null,
   "id": "f04d0a5c",
   "metadata": {},
   "outputs": [
    {
     "ename": "NameError",
     "evalue": "name 'best_K' is not defined",
     "output_type": "error",
     "traceback": [
      "\u001b[0;31m---------------------------------------------------------------------------\u001b[0m",
      "\u001b[0;31mNameError\u001b[0m                                 Traceback (most recent call last)",
      "Cell \u001b[0;32mIn[14], line 1\u001b[0m\n\u001b[0;32m----> 1\u001b[0m \u001b[43mbest_K\u001b[49m\n",
      "\u001b[0;31mNameError\u001b[0m: name 'best_K' is not defined"
     ]
    }
   ],
   "source": []
  }
 ],
 "metadata": {
  "kernelspec": {
   "display_name": "Python 3",
   "language": "python",
   "name": "python3"
  },
  "language_info": {
   "codemirror_mode": {
    "name": "ipython",
    "version": 3
   },
   "file_extension": ".py",
   "mimetype": "text/x-python",
   "name": "python",
   "nbconvert_exporter": "python",
   "pygments_lexer": "ipython3",
   "version": "3.9.6"
  }
 },
 "nbformat": 4,
 "nbformat_minor": 5
}
