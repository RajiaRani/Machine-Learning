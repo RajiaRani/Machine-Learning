{
 "cells": [
  {
   "cell_type": "markdown",
   "id": "0fd5c9bc",
   "metadata": {},
   "source": [
    "this is my first jupyter file\n"
   ]
  },
  {
   "cell_type": "code",
   "execution_count": 2,
   "id": "a506ef8a",
   "metadata": {},
   "outputs": [
    {
     "name": "stdout",
     "output_type": "stream",
     "text": [
      "hello, I am python!\n",
      "This is my forst ML program\n"
     ]
    }
   ],
   "source": [
    "print(\"hello, I am python!\")\n",
    "\n",
    "print(\"This is my forst ML program\")"
   ]
  },
  {
   "cell_type": "code",
   "execution_count": null,
   "id": "58b9ae22",
   "metadata": {},
   "outputs": [],
   "source": []
  }
 ],
 "metadata": {
  "kernelspec": {
   "display_name": "Python 3",
   "language": "python",
   "name": "python3"
  },
  "language_info": {
   "codemirror_mode": {
    "name": "ipython",
    "version": 3
   },
   "file_extension": ".py",
   "mimetype": "text/x-python",
   "name": "python",
   "nbconvert_exporter": "python",
   "pygments_lexer": "ipython3",
   "version": "3.9.6"
  }
 },
 "nbformat": 4,
 "nbformat_minor": 5
}
